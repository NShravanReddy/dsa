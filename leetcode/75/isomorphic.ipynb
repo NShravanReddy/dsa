{
 "cells": [
  {
   "cell_type": "code",
   "execution_count": 8,
   "metadata": {},
   "outputs": [
    {
     "name": "stdout",
     "output_type": "stream",
     "text": [
      "[0, 0, 0, 3, 3, 3, 0, 3] [0, 0, 0, 3, 3, 3, 3, 0] False\n"
     ]
    }
   ],
   "source": [
    "s =\"bbbaaaba\"\n",
    "t =\"aaabbbba\"\n",
    "l=[]\n",
    "p=[]\n",
    "for i in s:\n",
    "    l.append(s.index(i))\n",
    "for j in t:\n",
    "    p.append(t.index(j))\n",
    "if l==p:\n",
    "    print(l,'True')\n",
    "else:\n",
    "    print(l,p,'False')\n",
    "\n"
   ]
  },
  {
   "cell_type": "code",
   "execution_count": 12,
   "metadata": {},
   "outputs": [
    {
     "name": "stdout",
     "output_type": "stream",
     "text": [
      "4\n",
      "8\n"
     ]
    }
   ],
   "source": [
    "s =\"badc\"\n",
    "t =\"baba\"\n",
    "p=0\n",
    "m=0\n",
    "for i in s:\n",
    "    p=p+s.count(i)\n",
    "print(p)\n",
    "for j in t:\n",
    "    m=m+t.count(j)\n",
    "print(m)\n"
   ]
  },
  {
   "cell_type": "code",
   "execution_count": null,
   "metadata": {},
   "outputs": [],
   "source": []
  }
 ],
 "metadata": {
  "kernelspec": {
   "display_name": "Python 3",
   "language": "python",
   "name": "python3"
  },
  "language_info": {
   "codemirror_mode": {
    "name": "ipython",
    "version": 3
   },
   "file_extension": ".py",
   "mimetype": "text/x-python",
   "name": "python",
   "nbconvert_exporter": "python",
   "pygments_lexer": "ipython3",
   "version": "3.11.0 (main, Oct 24 2022, 18:26:48) [MSC v.1933 64 bit (AMD64)]"
  },
  "orig_nbformat": 4,
  "vscode": {
   "interpreter": {
    "hash": "c261aea317cc0286b3b3261fbba9abdec21eaa57589985bb7a274bf54d6cc0a7"
   }
  }
 },
 "nbformat": 4,
 "nbformat_minor": 2
}
