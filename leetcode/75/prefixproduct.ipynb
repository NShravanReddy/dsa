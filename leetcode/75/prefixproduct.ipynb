{
 "cells": [
  {
   "cell_type": "code",
   "execution_count": 1,
   "metadata": {},
   "outputs": [
    {
     "name": "stdout",
     "output_type": "stream",
     "text": [
      "[1, 1, 2, 6]\n",
      "[24, 12, 8, 6]\n"
     ]
    }
   ],
   "source": [
    "n=[1,2,3,4]\n",
    "l=len(n)\n",
    "prefix=1\n",
    "postfix=1\n",
    "a=[0]* l\n",
    "for i in range(l):\n",
    "    a[i]=prefix\n",
    "    prefix*=n[i]\n",
    "print(a)\n",
    "for i in range(l-1,-1,-1):\n",
    "    a[i]*=postfix\n",
    "    postfix*=n[i]\n",
    "print(a)"
   ]
  }
 ],
 "metadata": {
  "kernelspec": {
   "display_name": "pytorch_env",
   "language": "python",
   "name": "python3"
  },
  "language_info": {
   "codemirror_mode": {
    "name": "ipython",
    "version": 3
   },
   "file_extension": ".py",
   "mimetype": "text/x-python",
   "name": "python",
   "nbconvert_exporter": "python",
   "pygments_lexer": "ipython3",
   "version": "3.11.9"
  }
 },
 "nbformat": 4,
 "nbformat_minor": 2
}
