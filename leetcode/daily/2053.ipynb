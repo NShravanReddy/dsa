{
 "cells": [
  {
   "cell_type": "code",
   "execution_count": null,
   "metadata": {},
   "outputs": [],
   "source": [
    "\n",
    "def kthDistinct(self, arr,k) -> str:\n",
    "    d={}\n",
    "    for i in range(len(arr)):    #Time O(n)\n",
    "        if arr[i] not in d:\n",
    "            d[arr[i]]=1\n",
    "        else:\n",
    "            d[arr[i]]+=1\n",
    "    print(d)\n",
    "    b=[]\n",
    "    for i,j in d.items():    #Time O(n)\n",
    "        if j==k:\n",
    "            b.append(i)       # O(1)\n",
    "    return b[k-1] if len(b)>=k else \"\"\n",
    "a=kthDistinct(1,[\"aaa\",\"aa\",\"a\"],1)\n",
    "print(a)"
   ]
  },
  {
   "cell_type": "markdown",
   "metadata": {},
   "source": [
    "Total time complexity: O(n)+O(n)+O(1)=O(n)\n",
    "Space:                 O(n)"
   ]
  },
  {
   "cell_type": "code",
   "execution_count": null,
   "metadata": {},
   "outputs": [],
   "source": [
    "l=[]\n",
    "for i in arr:\n",
    "    if arr.count(i)==1:\n",
    "        l.append(i)\n",
    "return l[k-1] if len(l)>=k else \"\""
   ]
  },
  {
   "cell_type": "markdown",
   "metadata": {},
   "source": [
    "Time :O(n^2) as count is there in for loop it will also do loop it comes as loop inside the loop.\n",
    "Space:O(n)"
   ]
  },
  {
   "cell_type": "code",
   "execution_count": 14,
   "metadata": {},
   "outputs": [
    {
     "data": {
      "text/plain": [
       "22"
      ]
     },
     "execution_count": 14,
     "metadata": {},
     "output_type": "execute_result"
    }
   ],
   "source": [
    "def minimumPushes(self, w):\n",
    "    s=0\n",
    "    a2=['a','b','c']\n",
    "    a3=['d','e','f']\n",
    "    a4=['g','h','i']\n",
    "    a5=['j','k','l']\n",
    "    a6=['m','n','o']\n",
    "    a7=['p','q','r','s']\n",
    "    a8=['t','u','v']\n",
    "    a9=['w','x','y','z']\n",
    "    for i in w:\n",
    "        if i in a2:\n",
    "            s+=a2.count(i)\n",
    "        if i in a3:\n",
    "            s+=a3.count(i)\n",
    "        if i in a4:\n",
    "            s+=a4.count(i)\n",
    "        if i in a5:\n",
    "            s+=a5.count(i)\n",
    "        if i in a6:\n",
    "            s+=a6.count(i)\n",
    "        if i in a7:\n",
    "            s+=a7.count(i)\n",
    "        if i in a8:\n",
    "            s+=a8.count(i)\n",
    "        if i in a9:\n",
    "            s+=a9.count(i)\n",
    "        \n",
    "    return s\n",
    "a=minimumPushes(1,\"aabbccddeeffgghhiiiiii\")\n",
    "a"
   ]
  },
  {
   "cell_type": "code",
   "execution_count": null,
   "metadata": {},
   "outputs": [],
   "source": []
  }
 ],
 "metadata": {
  "kernelspec": {
   "display_name": "pytorch_env",
   "language": "python",
   "name": "python3"
  },
  "language_info": {
   "codemirror_mode": {
    "name": "ipython",
    "version": 3
   },
   "file_extension": ".py",
   "mimetype": "text/x-python",
   "name": "python",
   "nbconvert_exporter": "python",
   "pygments_lexer": "ipython3",
   "version": "3.11.9"
  }
 },
 "nbformat": 4,
 "nbformat_minor": 2
}
