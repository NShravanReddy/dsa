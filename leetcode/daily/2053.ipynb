{
 "cells": [
  {
   "cell_type": "code",
   "execution_count": null,
   "metadata": {},
   "outputs": [],
   "source": [
    "\n",
    "def kthDistinct(self, arr,k) -> str:\n",
    "    d={}\n",
    "    for i in range(len(arr)):    #Time O(n)\n",
    "        if arr[i] not in d:\n",
    "            d[arr[i]]=1\n",
    "        else:\n",
    "            d[arr[i]]+=1\n",
    "    print(d)\n",
    "    b=[]\n",
    "    for i,j in d.items():    #Time O(n)\n",
    "        if j==k:\n",
    "            b.append(i)       # O(1)\n",
    "    return b[k-1] if len(b)>=k else \"\"\n",
    "a=kthDistinct(1,[\"aaa\",\"aa\",\"a\"],1)\n",
    "print(a)"
   ]
  },
  {
   "cell_type": "markdown",
   "metadata": {},
   "source": [
    "Total time complexity: O(n)+O(n)+O(1)=O(n)\n",
    "Space:                 O(n)"
   ]
  },
  {
   "cell_type": "code",
   "execution_count": null,
   "metadata": {},
   "outputs": [],
   "source": [
    "l=[]\n",
    "for i in arr:\n",
    "    if arr.count(i)==1:\n",
    "        l.append(i)\n",
    "return l[k-1] if len(l)>=k else \"\""
   ]
  },
  {
   "cell_type": "markdown",
   "metadata": {},
   "source": [
    "Time :O(n^2) as count is there in for loop it will also do loop it comes as loop inside the loop.\n",
    "Space:O(n)"
   ]
  }
 ],
 "metadata": {
  "language_info": {
   "name": "python"
  }
 },
 "nbformat": 4,
 "nbformat_minor": 2
}
