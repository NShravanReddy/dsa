{
 "cells": [
  {
   "cell_type": "markdown",
   "metadata": {},
   "source": [
    "# Length of integer"
   ]
  },
  {
   "cell_type": "code",
   "execution_count": 26,
   "metadata": {},
   "outputs": [
    {
     "name": "stdout",
     "output_type": "stream",
     "text": [
      "3\n"
     ]
    }
   ],
   "source": [
    "# Approach 1\n",
    "a=512\n",
    "c=0\n",
    "print(sum(1 for i in str(a)))"
   ]
  },
  {
   "cell_type": "code",
   "execution_count": 27,
   "metadata": {},
   "outputs": [
    {
     "name": "stdout",
     "output_type": "stream",
     "text": [
      "3\n"
     ]
    }
   ],
   "source": [
    "#Approcah 2\n",
    "def count(n):\n",
    "    c=0\n",
    "    while n>0:\n",
    "        c+=1\n",
    "        n=n//10\n",
    "    return c\n",
    "n=512\n",
    "a=count(n)\n",
    "print(a)\n",
    "\n"
   ]
  },
  {
   "cell_type": "markdown",
   "metadata": {},
   "source": [
    "# Reverse Integer\n"
   ]
  },
  {
   "cell_type": "code",
   "execution_count": 4,
   "metadata": {},
   "outputs": [
    {
     "name": "stdout",
     "output_type": "stream",
     "text": [
      "321\n"
     ]
    }
   ],
   "source": [
    "x=123\n",
    "r=0\n",
    "a=''\n",
    "p=abs(x)\n",
    "while p>0:\n",
    "    a+=str(p%10)\n",
    "    \n",
    "    p=p//10\n",
    "a=int(a)\n",
    "if x>0:\n",
    "    r=a\n",
    "else:\n",
    "    r=-a\n",
    "if r>2**31-1 or r<-2**31:\n",
    "    r=0\n",
    "print(r)"
   ]
  },
  {
   "cell_type": "markdown",
   "metadata": {},
   "source": [
    "# Palindrome\n"
   ]
  },
  {
   "cell_type": "code",
   "execution_count": 17,
   "metadata": {},
   "outputs": [
    {
     "name": "stdout",
     "output_type": "stream",
     "text": [
      "1\n",
      "12\n",
      "121\n",
      "True\n"
     ]
    }
   ],
   "source": [
    "x=121\n",
    "b=x\n",
    "sum=0\n",
    "while x>0:\n",
    "    a=x%10\n",
    "    sum=sum*10+a\n",
    "    print(sum)\n",
    "    x=x//10\n",
    "print(b==sum)"
   ]
  },
  {
   "cell_type": "markdown",
   "metadata": {},
   "source": [
    "# LCM "
   ]
  },
  {
   "cell_type": "code",
   "execution_count": 18,
   "metadata": {},
   "outputs": [
    {
     "name": "stdout",
     "output_type": "stream",
     "text": [
      "4\n",
      "4\n",
      "3\n",
      "4\n"
     ]
    },
    {
     "data": {
      "text/plain": [
       "15"
      ]
     },
     "execution_count": 18,
     "metadata": {},
     "output_type": "execute_result"
    }
   ],
   "source": [
    "def sumOfDivisors(self, N):\n",
    "    #code here \n",
    "    s=0\n",
    "\n",
    "   \n",
    "    for i in range(1,N+1):\n",
    "        s+=(i*(N//i))\n",
    "    return s\n",
    "N=4\n",
    "a=sumOfDivisors(1,N)\n",
    "a"
   ]
  },
  {
   "cell_type": "markdown",
   "metadata": {},
   "source": [
    "Minimum jumps"
   ]
  },
  {
   "cell_type": "code",
   "execution_count": 28,
   "metadata": {},
   "outputs": [
    {
     "name": "stdout",
     "output_type": "stream",
     "text": [
      "1\n",
      "6\n",
      "14\n"
     ]
    },
    {
     "data": {
      "text/plain": [
       "3"
      ]
     },
     "execution_count": 28,
     "metadata": {},
     "output_type": "execute_result"
    }
   ],
   "source": [
    "def minJumps(self, arr, n):\n",
    "    #code here\n",
    "\n",
    "    c=1\n",
    "    b=arr[0]\n",
    "    if b==0:\n",
    "        return -1\n",
    "    i=0\n",
    "    while n:\n",
    "        print(b)\n",
    "    \n",
    "        if b>=n:\n",
    "            return c\n",
    "        else:\n",
    "            i+=1\n",
    "            b+=arr[i+1]\n",
    "            c+=1\n",
    "            \n",
    "\n",
    "arr=input()\n",
    "arr=[int(i)  for i in arr.split()]\n",
    "n = 11\n",
    "a=minJumps(1,arr,n)\n",
    "a\n",
    "\t"
   ]
  }
 ],
 "metadata": {
  "kernelspec": {
   "display_name": "Python 3",
   "language": "python",
   "name": "python3"
  },
  "language_info": {
   "codemirror_mode": {
    "name": "ipython",
    "version": 3
   },
   "file_extension": ".py",
   "mimetype": "text/x-python",
   "name": "python",
   "nbconvert_exporter": "python",
   "pygments_lexer": "ipython3",
   "version": "3.12.2"
  }
 },
 "nbformat": 4,
 "nbformat_minor": 2
}
