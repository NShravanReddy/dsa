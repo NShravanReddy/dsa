{
 "cells": [
  {
   "cell_type": "markdown",
   "metadata": {},
   "source": [
    "# Length of integer"
   ]
  },
  {
   "cell_type": "code",
   "execution_count": 26,
   "metadata": {},
   "outputs": [
    {
     "name": "stdout",
     "output_type": "stream",
     "text": [
      "3\n"
     ]
    }
   ],
   "source": [
    "# Approach 1\n",
    "a=512\n",
    "c=0\n",
    "print(sum(1 for i in str(a)))"
   ]
  },
  {
   "cell_type": "code",
   "execution_count": 27,
   "metadata": {},
   "outputs": [
    {
     "name": "stdout",
     "output_type": "stream",
     "text": [
      "3\n"
     ]
    }
   ],
   "source": [
    "#Approcah 2\n",
    "def count(n):\n",
    "    c=0\n",
    "    while n>0:\n",
    "        c+=1\n",
    "        n=n//10\n",
    "    return c\n",
    "n=512\n",
    "a=count(n)\n",
    "print(a)\n",
    "\n"
   ]
  },
  {
   "cell_type": "markdown",
   "metadata": {},
   "source": [
    "# Reverse Integer\n"
   ]
  },
  {
   "cell_type": "code",
   "execution_count": 4,
   "metadata": {},
   "outputs": [
    {
     "name": "stdout",
     "output_type": "stream",
     "text": [
      "321\n"
     ]
    }
   ],
   "source": [
    "x=123\n",
    "r=0\n",
    "a=''\n",
    "p=abs(x)\n",
    "while p>0:\n",
    "    a+=str(p%10)\n",
    "    \n",
    "    p=p//10\n",
    "a=int(a)\n",
    "if x>0:\n",
    "    r=a\n",
    "else:\n",
    "    r=-a\n",
    "if r>2**31-1 or r<-2**31:\n",
    "    r=0\n",
    "print(r)"
   ]
  },
  {
   "cell_type": "markdown",
   "metadata": {},
   "source": [
    "# Palindrome\n"
   ]
  },
  {
   "cell_type": "code",
   "execution_count": 17,
   "metadata": {},
   "outputs": [
    {
     "name": "stdout",
     "output_type": "stream",
     "text": [
      "1\n",
      "12\n",
      "121\n",
      "True\n"
     ]
    }
   ],
   "source": [
    "x=121\n",
    "b=x\n",
    "sum=0\n",
    "while x>0:\n",
    "    a=x%10\n",
    "    sum=sum*10+a\n",
    "    print(sum)\n",
    "    x=x//10\n",
    "print(b==sum)"
   ]
  }
 ],
 "metadata": {
  "kernelspec": {
   "display_name": "Python 3",
   "language": "python",
   "name": "python3"
  },
  "language_info": {
   "codemirror_mode": {
    "name": "ipython",
    "version": 3
   },
   "file_extension": ".py",
   "mimetype": "text/x-python",
   "name": "python",
   "nbconvert_exporter": "python",
   "pygments_lexer": "ipython3",
   "version": "3.10.13"
  }
 },
 "nbformat": 4,
 "nbformat_minor": 2
}
