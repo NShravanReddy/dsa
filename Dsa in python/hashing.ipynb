{
 "cells": [
  {
   "cell_type": "code",
   "execution_count": 5,
   "metadata": {},
   "outputs": [
    {
     "data": {
      "text/plain": [
       "(dict_keys([1, 2, 3, 4]), dict_values([0, 0, 0, 0]))"
      ]
     },
     "execution_count": 5,
     "metadata": {},
     "output_type": "execute_result"
    }
   ],
   "source": [
    "N=5\n",
    "d={i:0 for i in range(1,N)}\n",
    "d.keys(),d.values()"
   ]
  },
  {
   "cell_type": "code",
   "execution_count": 25,
   "metadata": {},
   "outputs": [
    {
     "name": "stdout",
     "output_type": "stream",
     "text": [
      "[0, 2, 2, 0]\n"
     ]
    }
   ],
   "source": [
    "def frequencyCount(self, arr, N, P):\n",
    "    # code here\n",
    "    d={o:0 for o in range(1,N)}\n",
    "    for i in range(P):\n",
    "        if arr[i] in d:\n",
    "            d[arr[i]]+=1\n",
    "    print([h for h in d.values()])\n",
    "    \n",
    "a=frequencyCount(1,[2, 3, 2, 3, 5], 5, 5)\n",
    "a\n"
   ]
  },
  {
   "cell_type": "code",
   "execution_count": null,
   "metadata": {},
   "outputs": [],
   "source": []
  }
 ],
 "metadata": {
  "kernelspec": {
   "display_name": "pytorch_env",
   "language": "python",
   "name": "python3"
  },
  "language_info": {
   "codemirror_mode": {
    "name": "ipython",
    "version": 3
   },
   "file_extension": ".py",
   "mimetype": "text/x-python",
   "name": "python",
   "nbconvert_exporter": "python",
   "pygments_lexer": "ipython3",
   "version": "3.11.9"
  }
 },
 "nbformat": 4,
 "nbformat_minor": 2
}
