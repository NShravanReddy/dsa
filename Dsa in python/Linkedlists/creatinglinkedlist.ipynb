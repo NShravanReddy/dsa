{
 "cells": [
  {
   "cell_type": "code",
   "execution_count": null,
   "metadata": {},
   "outputs": [],
   "source": [
    "class Node:\n",
    "\n",
    "    def __init__(self,data):\n",
    "        self.data=data\n",
    "        self.next=None\n",
    "\n",
    "v=Node(10)\n",
    "w=Node(11)\n",
    "v.next=w\n",
    "print(v.data)\n",
    "print(v.next.data)\n",
    "print(v.next)\n",
    "print(v.next.next)\n",
    "print(w.next.data)"
   ]
  },
  {
   "cell_type": "code",
   "execution_count": 1,
   "metadata": {},
   "outputs": [
    {
     "name": "stdout",
     "output_type": "stream",
     "text": [
      "40 20 "
     ]
    }
   ],
   "source": [
    "class Node:\n",
    "    def __init__(self,data):\n",
    "        self.data=data\n",
    "        self.next=None\n",
    "\n",
    "def Print(head):\n",
    "    while head is not None:\n",
    "        print(head.data,end=' ')\n",
    "        head=head.next\n",
    "\n",
    "a=Node(20)\n",
    "b=Node(40)\n",
    "b.next=a\n",
    "Print(b)\n"
   ]
  },
  {
   "cell_type": "code",
   "execution_count": 49,
   "metadata": {},
   "outputs": [
    {
     "name": "stdout",
     "output_type": "stream",
     "text": [
      "20 30 40 "
     ]
    }
   ],
   "source": [
    "class Node:\n",
    "    def __init__(self,data):\n",
    "        self.data=data\n",
    "        self.next=None\n",
    "\n",
    "def Print(head):\n",
    "    while head is not None:\n",
    "        print(head.data,end=' ')\n",
    "        head=head.next\n",
    " \n",
    "node1=Node(10)\n",
    "node2=Node(20)\n",
    "node3=Node(30)\n",
    "node4=Node(40)\n",
    "node1.next=node2\n",
    "node2.next=node3\n",
    "node3.next=node4\n",
    "Print(node2)\n"
   ]
  },
  {
   "attachments": {},
   "cell_type": "markdown",
   "metadata": {},
   "source": [
    "Taking input from user and create a linked list"
   ]
  },
  {
   "cell_type": "code",
   "execution_count": 6,
   "metadata": {},
   "outputs": [
    {
     "name": "stdout",
     "output_type": "stream",
     "text": [
      "30 20 10 \n"
     ]
    }
   ],
   "source": [
    "class Node:\n",
    "    def __init__(self,data):\n",
    "        self.data=data\n",
    "        self.next=None\n",
    "\n",
    "class Linkedlist:\n",
    "    def __init__(self):\n",
    "        self.head=None\n",
    "    \n",
    "    def Insertfirst(self,data):\n",
    "        new_node=Node(data)\n",
    "        new_node.next=self.head\n",
    "        self.head=new_node\n",
    "    def Pr(self):\n",
    "        a=self.head\n",
    "        while a!=None:\n",
    "            print(a.data,end=' ')\n",
    "            a=a.next\n",
    "        print()\n",
    "l=Linkedlist()\n",
    "l.Insertfirst(10)\n",
    "l.Insertfirst(20)\n",
    "l.Insertfirst(30)\n",
    "l.Pr()\n"
   ]
  },
  {
   "cell_type": "code",
   "execution_count": 48,
   "metadata": {},
   "outputs": [
    {
     "name": "stdout",
     "output_type": "stream",
     "text": [
      "1 2 3 "
     ]
    }
   ],
   "source": [
    "class Node:\n",
    "    def __init__(self,data):\n",
    "        self.data=data\n",
    "        self.next=None\n",
    "\n",
    "class Linked:\n",
    "    def __init__(self) :\n",
    "        self.head=None\n",
    "        \n",
    "    \n",
    "    def Createlinked(self):\n",
    "        inputlist=[1,2,3,-1]\n",
    "        for i in inputlist:\n",
    "            if i==-1:\n",
    "                break\n",
    "            new_node=Node(i)\n",
    "            head=new_node\n",
    "            print(head.data,end=' ')\n",
    "            \n",
    "\n",
    "\n",
    "a=Linked()\n",
    "a.Createlinked()\n"
   ]
  },
  {
   "cell_type": "code",
   "execution_count": 48,
   "metadata": {},
   "outputs": [
    {
     "name": "stdout",
     "output_type": "stream",
     "text": [
      "10\n",
      "20 10 30 90 "
     ]
    },
    {
     "data": {
      "text/plain": [
       "4"
      ]
     },
     "execution_count": 48,
     "metadata": {},
     "output_type": "execute_result"
    }
   ],
   "source": [
    "class Node:\n",
    "    def __init__(self,data) :\n",
    "        self.data=data\n",
    "        self.next=None\n",
    "\n",
    "\n",
    "class lk:\n",
    "    def __init__(self):\n",
    "        self.head=None\n",
    "\n",
    "    def If(self,data):\n",
    "        new_node=Node(data)\n",
    "        new_node.next=self.head\n",
    "        self.head=new_node\n",
    "\n",
    "    def Il(self,data):\n",
    "        new_node=Node(data)\n",
    "        new_node.next=None\n",
    "\n",
    "        if self.head is None:\n",
    "            self.head=new_node\n",
    "            return\n",
    "\n",
    "        temp=self.head\n",
    "\n",
    "        while temp.next is not None:\n",
    "            temp=temp.next\n",
    "            \n",
    "        temp.next=new_node\n",
    "\n",
    "    def Ip(self,pos,data):\n",
    "        \n",
    "\n",
    "        if pos<1:\n",
    "            print(\"can't insert\")\n",
    "        else:\n",
    "            temp=self.head\n",
    "            new_node=Node(data)\n",
    "\n",
    "        for i in range(1,pos):\n",
    "            temp=temp.next\n",
    "            print(temp.data)\n",
    "            pos=pos-1\n",
    "        new_node.next=temp.next\n",
    "        temp.next=new_node\n",
    "            \n",
    "    def display(self):\n",
    "        temp=self.head\n",
    "        while temp:\n",
    "            print(temp.data,end=' ')\n",
    "    \n",
    "            temp=temp.next\n",
    "    def calsize(self):\n",
    "        temp=self.head\n",
    "        s=0\n",
    "        while temp is not None:\n",
    "            s=s+1\n",
    "            temp=temp.next\n",
    "        return s\n",
    "\n",
    "\n",
    "\n",
    "q=lk()\n",
    "q.If(10)\n",
    "q.If(20)\n",
    "q.Il(90)\n",
    "q.Ip(2,30)\n",
    "q.display()\n",
    "q.calsize()\n"
   ]
  },
  {
   "cell_type": "code",
   "execution_count": 7,
   "metadata": {},
   "outputs": [
    {
     "name": "stdout",
     "output_type": "stream",
     "text": [
      "16\n",
      "12\n",
      "20 16 12 25 10 14 18 11 "
     ]
    }
   ],
   "source": [
    "class Node:\n",
    "\n",
    "    def __init__(self, data):\n",
    "        self.data = data \n",
    "        self.next = None \n",
    " \n",
    "class LinkedList: \n",
    "    def __init__ (self): \n",
    "        self.head = None \n",
    " \n",
    "    def insertStart(self, data):\n",
    "        new_node = Node (data) \n",
    "        new_node.next = self.head \n",
    "  \n",
    "        #changing the head to freshly entered node\n",
    "        self.head = new_node \n",
    " \n",
    "    def insertLast(self, data):\n",
    "        new_node = Node (data) \n",
    "  \n",
    "        new_node.next = None \n",
    " \n",
    "        #need this if there is no node present in linked list at all\n",
    "        if self.head is None:\n",
    "            self.head = new_node \n",
    "            return \n",
    " \n",
    "        temp = self.head \n",
    " \n",
    "        while temp.next is not None: \n",
    "            temp = temp.next \n",
    " \n",
    "        temp.next = new_node \n",
    "    \n",
    "    def insertPosition (self, pos, data):\n",
    "        size = self.calcSize () \n",
    "        if pos<1 or size<pos:\n",
    "            print (\"Can't insert\", pos,\" is not valid position\") \n",
    "        else:\n",
    "            temp = self.head \n",
    "            new_node = Node (data) \n",
    "\n",
    "        for i in range(1, pos): \n",
    "            temp = temp.next \n",
    "            print(temp.data)\n",
    "            pos -= 1 \n",
    " \n",
    "        new_node.next = temp.next \n",
    "        temp.next = new_node \n",
    "\n",
    "    def display(self) :\n",
    "        temp = self.head \n",
    "        while temp : \n",
    "            print (temp.data, end = \" \") \n",
    "            temp = temp.next \n",
    " \n",
    "    def calcSize(self):\n",
    "        size = 0 \n",
    "        node =self.head \n",
    "\n",
    "        while node is not None:\n",
    "            node = node.next \n",
    "            size +=1 \n",
    "        return size \n",
    " \n",
    "#Drive Code\n",
    "ll = LinkedList() \n",
    "\n",
    "ll.insertStart(12) \n",
    "ll.insertStart(16) \n",
    "ll.insertStart(20) \n",
    "\t      \n",
    "ll.insertLast(10) \n",
    "ll.insertLast(14) \n",
    "ll.insertLast(18) \n",
    "ll.insertLast(11) \n",
    " \n",
    "#Inserts after 3rd position\n",
    "ll.insertPosition(3, 25) \n",
    " \n",
    "ll.display() "
   ]
  }
 ],
 "metadata": {
  "kernelspec": {
   "display_name": "Python 3",
   "language": "python",
   "name": "python3"
  },
  "language_info": {
   "codemirror_mode": {
    "name": "ipython",
    "version": 3
   },
   "file_extension": ".py",
   "mimetype": "text/x-python",
   "name": "python",
   "nbconvert_exporter": "python",
   "pygments_lexer": "ipython3",
   "version": "3.11.0 (main, Oct 24 2022, 18:26:48) [MSC v.1933 64 bit (AMD64)]"
  },
  "orig_nbformat": 4,
  "vscode": {
   "interpreter": {
    "hash": "c261aea317cc0286b3b3261fbba9abdec21eaa57589985bb7a274bf54d6cc0a7"
   }
  }
 },
 "nbformat": 4,
 "nbformat_minor": 2
}
