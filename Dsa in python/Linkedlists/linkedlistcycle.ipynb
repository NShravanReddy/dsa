{
 "cells": [
  {
   "cell_type": "code",
   "execution_count": null,
   "metadata": {},
   "outputs": [],
   "source": [
    "class Node:\n",
    "    def __init__(self,d):\n",
    "        self.d=d\n",
    "        self.n=None\n",
    "class LinkedListcycle:\n",
    "    def __init__(self,h):\n",
    "        self.head=None\n",
    "    \n",
    "    def Linked(self):\n",
    "        a=[1,2,3,-4]\n",
    "        p=1\n",
    "        if self.head is None:\n",
    "            for i in a:\n",
    "                n=Node(i)\n",
    "            n.next=self.head\n",
    "            self.head=n\n",
    "    def display(self):\n",
    "        temp=self.head\n",
    "        while temp:\n",
    "            print(temp.data,end=' ')\n",
    "            temp=temp.next\n",
    "        \n",
    "l=LinkedListcycle()\n",
    "\n",
    "l.display()\n",
    "\n",
    "\n",
    "        \n",
    "            \n",
    "\n"
   ]
  }
 ],
 "metadata": {
  "kernelspec": {
   "display_name": "Python 3",
   "language": "python",
   "name": "python3"
  },
  "language_info": {
   "name": "python",
   "version": "3.10.2 (tags/v3.10.2:a58ebcc, Jan 17 2022, 14:12:15) [MSC v.1929 64 bit (AMD64)]"
  },
  "orig_nbformat": 4,
  "vscode": {
   "interpreter": {
    "hash": "cab83614c35af97801502773e8caf02849b0735b457d2ef56ad74dec517c590c"
   }
  }
 },
 "nbformat": 4,
 "nbformat_minor": 2
}
