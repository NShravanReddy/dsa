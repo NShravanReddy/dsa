{
 "cells": [
  {
   "cell_type": "markdown",
   "metadata": {},
   "source": [
    "Here the number 5 is passed to the function and the the condition is checked. If N <1 then it call the Call stack and print the stack. \n",
    "If print is given before recursive call the it prints in descending order\n",
    "Call Stack Behavior: The stack is used to manage the function calls, but the order of printing is controlled by where the \n"
   ]
  },
  {
   "cell_type": "code",
   "execution_count": 9,
   "metadata": {},
   "outputs": [
    {
     "name": "stdout",
     "output_type": "stream",
     "text": [
      "1\n",
      "2\n",
      "3\n",
      "4\n",
      "5\n"
     ]
    }
   ],
   "source": [
    "def printNos(self,N):\n",
    "    #Your code here\n",
    "    if N<1:\n",
    "        return\n",
    "    printNos(1,N-1)\n",
    "    print(N)\n",
    "N=5\n",
    "printNos(1,N)"
   ]
  },
  {
   "cell_type": "markdown",
   "metadata": {},
   "source": [
    "# Cube sum of numbers"
   ]
  },
  {
   "cell_type": "code",
   "execution_count": 8,
   "metadata": {},
   "outputs": [
    {
     "data": {
      "text/plain": [
       "225"
      ]
     },
     "execution_count": 8,
     "metadata": {},
     "output_type": "execute_result"
    }
   ],
   "source": [
    "def cube(n):\n",
    "    a=(n*(n+1)//2)**2\n",
    "    return a\n",
    "cube(5)"
   ]
  },
  {
   "cell_type": "markdown",
   "metadata": {},
   "source": [
    "##### Time complexity:O(1)\n",
    "##### Space complexity:O(1)"
   ]
  },
  {
   "cell_type": "code",
   "execution_count": 7,
   "metadata": {},
   "outputs": [
    {
     "data": {
      "text/plain": [
       "[1, 2, 6]"
      ]
     },
     "execution_count": 7,
     "metadata": {},
     "output_type": "execute_result"
    }
   ],
   "source": [
    "def fact(n):\n",
    "    f=1\n",
    "    i=2\n",
    "    a=[]\n",
    "    while f<=n:\n",
    "        a.append(f)\n",
    "        f*=i\n",
    "        i+=1\n",
    "    return a\n",
    "fact(6)"
   ]
  },
  {
   "cell_type": "markdown",
   "metadata": {},
   "source": [
    "###### Time complexity:O(log(n))\n",
    "###### Space complexity:O(log(n))"
   ]
  },
  {
   "cell_type": "markdown",
   "metadata": {},
   "source": [
    "# Valid Plaindrome"
   ]
  },
  {
   "cell_type": "code",
   "execution_count": 14,
   "metadata": {},
   "outputs": [
    {
     "name": "stdout",
     "output_type": "stream",
     "text": [
      "a0manaplanacanalpanam0a\n",
      "a0manaplanacanalpanam0a\n"
     ]
    },
    {
     "data": {
      "text/plain": [
       "True"
      ]
     },
     "execution_count": 14,
     "metadata": {},
     "output_type": "execute_result"
    }
   ],
   "source": [
    "def isPalindrome(self, s: str) -> bool:\n",
    "        if len(s)==0 or len(s)==1:\n",
    "            return True\n",
    "        else:\n",
    "            s1=''\n",
    "            for i in s:\n",
    "                if i.isalnum():\n",
    "                    s1+=i.lower()\n",
    "            print(s1)\n",
    "            print(s1[::-1])\n",
    "            return True if s1==s1[::-1] else False\n",
    "        \n",
    "isPalindrome(1,\"A 0man, a plan, a canal: Panam0a\")"
   ]
  }
 ],
 "metadata": {
  "kernelspec": {
   "display_name": "Python 3",
   "language": "python",
   "name": "python3"
  },
  "language_info": {
   "codemirror_mode": {
    "name": "ipython",
    "version": 3
   },
   "file_extension": ".py",
   "mimetype": "text/x-python",
   "name": "python",
   "nbconvert_exporter": "python",
   "pygments_lexer": "ipython3",
   "version": "3.11.9"
  }
 },
 "nbformat": 4,
 "nbformat_minor": 2
}
