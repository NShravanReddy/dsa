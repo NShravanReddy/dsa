{
 "cells": [
  {
   "cell_type": "code",
   "execution_count": null,
   "metadata": {},
   "outputs": [
    {
     "name": "stdout",
     "output_type": "stream",
     "text": [
      "True\n"
     ]
    }
   ],
   "source": [
    "#simple iteration\n",
    "num=5665\n",
    "temp=num\n",
    "rev=0\n",
    "while temp>0:\n",
    "    rem=temp%10\n",
    "    rev=(rev*10)+rem\n",
    "    temp=temp//10\n",
    "if num==rev:\n",
    "    print(True)\n",
    "else:\n",
    "    print(False)"
   ]
  },
  {
   "cell_type": "code",
   "execution_count": null,
   "metadata": {},
   "outputs": [
    {
     "name": "stdout",
     "output_type": "stream",
     "text": [
      "palindrome\n"
     ]
    }
   ],
   "source": [
    "#String slicing\n",
    "num=1221\n",
    "print('palindrome' if num==int(str(num)[::-1]) else 'not palindrome')"
   ]
  },
  {
   "cell_type": "code",
   "execution_count": 5,
   "metadata": {},
   "outputs": [
    {
     "name": "stdout",
     "output_type": "stream",
     "text": [
      "palindrome\n"
     ]
    }
   ],
   "source": [
    "def recur(n,rev):\n",
    "    if n==0:\n",
    "        return rev\n",
    "    rem=int(n%10)\n",
    "    rev=(rev*10)+rem\n",
    "\n",
    "    return recur(int(n/10),rev)\n",
    "n=1221\n",
    "rev=0\n",
    "reverse=recur(n,rev)\n",
    "print(\"palindrome\" if reverse==n else \"not palindrome\")"
   ]
  },
  {
   "cell_type": "code",
   "execution_count": 25,
   "metadata": {},
   "outputs": [
    {
     "name": "stdout",
     "output_type": "stream",
     "text": [
      "['ab']\n",
      "a\n",
      "True\n"
     ]
    }
   ],
   "source": [
    "str='abba'\n",
    "print([\"\".join(str[i] for i in range(0,len(str)//2))])\n",
    "mid=len(str)//2\n",
    "print(str[len(str)-1])\n",
    "for i in range(mid):\n",
    "    if str[i]!=str[len(str)-i-1]:\n",
    "        print(\"Flase\")\n",
    "else:\n",
    "    print(\"True\")"
   ]
  },
  {
   "cell_type": "code",
   "execution_count": 26,
   "metadata": {},
   "outputs": [
    {
     "name": "stdout",
     "output_type": "stream",
     "text": [
      "Palindrome\n"
     ]
    }
   ],
   "source": [
    "str1='radar'\n",
    "n=len(str1)\n",
    "c=[]\n",
    "for i in range(n-1,-1,-1):\n",
    "    c.append(str1[i])\n",
    "rev=\"\".join(c)\n",
    "if str1==rev:\n",
    "    print(\"Palindrome\")\n",
    "else:\n",
    "    print(\"not palindrome\")"
   ]
  },
  {
   "cell_type": "code",
   "execution_count": 2,
   "metadata": {},
   "outputs": [
    {
     "name": "stdout",
     "output_type": "stream",
     "text": [
      "odd\n"
     ]
    }
   ],
   "source": [
    "n=99\n",
    "if n&1==0:\n",
    "    print(\"even\")\n",
    "else:\n",
    "    print(\"odd\")"
   ]
  },
  {
   "cell_type": "code",
   "execution_count": null,
   "metadata": {},
   "outputs": [],
   "source": []
  }
 ],
 "metadata": {
  "kernelspec": {
   "display_name": "Python 3.9.7 ('base')",
   "language": "python",
   "name": "python3"
  },
  "language_info": {
   "codemirror_mode": {
    "name": "ipython",
    "version": 3
   },
   "file_extension": ".py",
   "mimetype": "text/x-python",
   "name": "python",
   "nbconvert_exporter": "python",
   "pygments_lexer": "ipython3",
   "version": "3.9.7"
  },
  "orig_nbformat": 4,
  "vscode": {
   "interpreter": {
    "hash": "ad2bdc8ecc057115af97d19610ffacc2b4e99fae6737bb82f5d7fb13d2f2c186"
   }
  }
 },
 "nbformat": 4,
 "nbformat_minor": 2
}
