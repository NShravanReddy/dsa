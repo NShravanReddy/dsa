{
 "cells": [
  {
   "cell_type": "code",
   "execution_count": 2,
   "metadata": {},
   "outputs": [
    {
     "name": "stdout",
     "output_type": "stream",
     "text": [
      "12\n"
     ]
    }
   ],
   "source": [
    "n1,n2=36,60\n",
    "for i in range(1,min(n1,n2)):\n",
    "    if n1%i==0 and n2%i==0:\n",
    "        gcd=i\n",
    "print(gcd)"
   ]
  },
  {
   "cell_type": "code",
   "execution_count": 3,
   "metadata": {},
   "outputs": [
    {
     "name": "stdout",
     "output_type": "stream",
     "text": [
      "12\n"
     ]
    }
   ],
   "source": [
    "while n1!=n2:\n",
    "    if n1>n2:\n",
    "        n1-=n2\n",
    "    else:\n",
    "        n2-=n1\n",
    "print(n1)\n"
   ]
  },
  {
   "cell_type": "code",
   "execution_count": null,
   "metadata": {},
   "outputs": [],
   "source": []
  }
 ],
 "metadata": {
  "kernelspec": {
   "display_name": "Python 3.10.2 64-bit",
   "language": "python",
   "name": "python3"
  },
  "language_info": {
   "codemirror_mode": {
    "name": "ipython",
    "version": 3
   },
   "file_extension": ".py",
   "mimetype": "text/x-python",
   "name": "python",
   "nbconvert_exporter": "python",
   "pygments_lexer": "ipython3",
   "version": "3.10.2"
  },
  "orig_nbformat": 4,
  "vscode": {
   "interpreter": {
    "hash": "cab83614c35af97801502773e8caf02849b0735b457d2ef56ad74dec517c590c"
   }
  }
 },
 "nbformat": 4,
 "nbformat_minor": 2
}
