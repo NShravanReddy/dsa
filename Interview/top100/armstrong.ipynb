{
 "cells": [
  {
   "cell_type": "code",
   "execution_count": null,
   "metadata": {},
   "outputs": [],
   "source": [
    "#If sum of powers of each number is equal to the number then the number is armstrong.\n",
    "# Here power is no of numbers"
   ]
  },
  {
   "cell_type": "code",
   "execution_count": 3,
   "metadata": {},
   "outputs": [
    {
     "name": "stdout",
     "output_type": "stream",
     "text": [
      "armstrong\n"
     ]
    }
   ],
   "source": [
    "num=370\n",
    "c=0\n",
    "temp=num\n",
    "ord=len(str(num))\n",
    "while(num!=0):\n",
    "    rem=num%10\n",
    "    c=c+rem**ord\n",
    "    num=num//10\n",
    "if temp==c:\n",
    "    print(\"armstrong\")\n",
    "else:\n",
    "    print(\"not\")\n",
    "\n",
    "    "
   ]
  },
  {
   "cell_type": "code",
   "execution_count": 2,
   "metadata": {},
   "outputs": [
    {
     "name": "stdout",
     "output_type": "stream",
     "text": [
      "7\n"
     ]
    }
   ],
   "source": [
    "print(37%10)"
   ]
  },
  {
   "cell_type": "code",
   "execution_count": null,
   "metadata": {},
   "outputs": [],
   "source": [
    "#armstrong number in given series\n",
    "\n",
    "\n",
    "\n",
    "low,high=10,10000\n",
    "\n",
    "for i in range(low,high+1):\n",
    "    ord=len(str(i))\n",
    "    sum=0\n",
    "    temp=i\n",
    "\n",
    "    while temp>0:\n",
    "        digit=temp%10\n",
    "        sum+=digit**ord\n",
    "        temp//=10\n",
    "\n",
    "    if i==sum:\n",
    "        print(i)\n",
    "\n"
   ]
  },
  {
   "cell_type": "code",
   "execution_count": 5,
   "metadata": {},
   "outputs": [
    {
     "name": "stdout",
     "output_type": "stream",
     "text": [
      "20 10\n"
     ]
    }
   ],
   "source": [
    "a,b=10,20\n",
    "b=a+b\n",
    "a=b-a\n",
    "b=b-a\n",
    "print(a,b)"
   ]
  },
  {
   "cell_type": "code",
   "execution_count": null,
   "metadata": {},
   "outputs": [],
   "source": []
  }
 ],
 "metadata": {
  "kernelspec": {
   "display_name": "Python 3.9.7 ('base')",
   "language": "python",
   "name": "python3"
  },
  "language_info": {
   "codemirror_mode": {
    "name": "ipython",
    "version": 3
   },
   "file_extension": ".py",
   "mimetype": "text/x-python",
   "name": "python",
   "nbconvert_exporter": "python",
   "pygments_lexer": "ipython3",
   "version": "3.9.7"
  },
  "orig_nbformat": 4,
  "vscode": {
   "interpreter": {
    "hash": "ad2bdc8ecc057115af97d19610ffacc2b4e99fae6737bb82f5d7fb13d2f2c186"
   }
  }
 },
 "nbformat": 4,
 "nbformat_minor": 2
}
