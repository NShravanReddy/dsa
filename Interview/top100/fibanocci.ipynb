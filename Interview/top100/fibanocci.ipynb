{
 "cells": [
  {
   "cell_type": "markdown",
   "metadata": {},
   "source": [
    "number should be positive and 0,1 are static.Then from the range of 2 to n use.\n",
    "Means the next element is sum of last two elements\n"
   ]
  },
  {
   "cell_type": "code",
   "execution_count": 9,
   "metadata": {},
   "outputs": [
    {
     "name": "stdout",
     "output_type": "stream",
     "text": [
      "0\n",
      "1\n",
      "1\n",
      "2\n",
      "3\n",
      "5\n",
      "8\n",
      "13\n",
      "21\n",
      "34\n",
      "55\n"
     ]
    }
   ],
   "source": [
    "def fib(num):\n",
    "    a,b=0,1\n",
    "    if num<0:\n",
    "        print(\"Enter a postive number\")\n",
    "    else:\n",
    "        print(a)\n",
    "        print(b)\n",
    "        for i in range(2,num+1):\n",
    "            c=a+b\n",
    "            a=b\n",
    "            b=c\n",
    "            print(c)\n",
    "fib(10)"
   ]
  },
  {
   "cell_type": "code",
   "execution_count": 10,
   "metadata": {},
   "outputs": [
    {
     "name": "stdout",
     "output_type": "stream",
     "text": [
      "55\n"
     ]
    }
   ],
   "source": [
    "def fib(num):\n",
    "    a=[0,1]\n",
    "    if num<0:\n",
    "        print(\"Enter a postive number\")\n",
    "    else:\n",
    "        for i in range(1,num):\n",
    "            a.append(a[i]+a[i-1])\n",
    "        print(a[num])\n",
    "fib(10)"
   ]
  },
  {
   "cell_type": "code",
   "execution_count": 11,
   "metadata": {},
   "outputs": [
    {
     "name": "stdout",
     "output_type": "stream",
     "text": [
      "55\n"
     ]
    }
   ],
   "source": [
    "def fib(n):\n",
    "    if n<0:\n",
    "        print(\"Enter a postive number\")\n",
    "    a,b=0,1\n",
    "    for i in range(1,n):\n",
    "        c=a+b\n",
    "        a=b\n",
    "        b=c\n",
    "    print(c)\n",
    "fib(10)"
   ]
  },
  {
   "cell_type": "code",
   "execution_count": null,
   "metadata": {},
   "outputs": [],
   "source": []
  }
 ],
 "metadata": {
  "kernelspec": {
   "display_name": "Python 3.9.7 ('base')",
   "language": "python",
   "name": "python3"
  },
  "language_info": {
   "codemirror_mode": {
    "name": "ipython",
    "version": 3
   },
   "file_extension": ".py",
   "mimetype": "text/x-python",
   "name": "python",
   "nbconvert_exporter": "python",
   "pygments_lexer": "ipython3",
   "version": "3.9.7"
  },
  "orig_nbformat": 4,
  "vscode": {
   "interpreter": {
    "hash": "ad2bdc8ecc057115af97d19610ffacc2b4e99fae6737bb82f5d7fb13d2f2c186"
   }
  }
 },
 "nbformat": 4,
 "nbformat_minor": 2
}
