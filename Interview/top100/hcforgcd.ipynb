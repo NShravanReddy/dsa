{
 "cells": [
  {
   "attachments": {},
   "cell_type": "markdown",
   "metadata": {},
   "source": [
    "first we take the minimum of the two numbers then iterate a loop until the minimum element because the number should divide two numbers.\n",
    "If a number in the given range gives zero remainder then the given number is hcf or gcd."
   ]
  },
  {
   "cell_type": "code",
   "execution_count": 2,
   "metadata": {},
   "outputs": [
    {
     "name": "stdout",
     "output_type": "stream",
     "text": [
      "Hcf or gcd if the given numbers is 14\n"
     ]
    }
   ],
   "source": [
    "n1,n2=28,14\n",
    "if n2>n1:\n",
    "    mn=n1\n",
    "else:\n",
    "    mn=n2\n",
    "for i in range(1,mn+1):\n",
    "    if n1%i==0 and n2%i==0:\n",
    "        hcf=i\n",
    "print(\"Hcf or gcd if the given numbers is\",hcf)"
   ]
  },
  {
   "cell_type": "code",
   "execution_count": 3,
   "metadata": {},
   "outputs": [
    {
     "name": "stdout",
     "output_type": "stream",
     "text": [
      "Hcf of the given numbers is 14\n"
     ]
    }
   ],
   "source": [
    "n1,n2=28,14\n",
    "while n1!=n2:\n",
    "    if n1>n2:\n",
    "        n1-=n2\n",
    "    else:\n",
    "        n2-=n1\n",
    "print(\"Hcf of the given numbers is\",n1)"
   ]
  },
  {
   "cell_type": "code",
   "execution_count": 2,
   "metadata": {},
   "outputs": [
    {
     "name": "stdout",
     "output_type": "stream",
     "text": [
      "12\n"
     ]
    }
   ],
   "source": [
    "m,n=36,60\n",
    "for i in range(1,min(m,n)):\n",
    "    if m%i==0 and n%i==0:\n",
    "        gcd=i\n",
    "print(gcd)"
   ]
  },
  {
   "cell_type": "code",
   "execution_count": null,
   "metadata": {},
   "outputs": [],
   "source": []
  }
 ],
 "metadata": {
  "kernelspec": {
   "display_name": "Python 3.9.7 ('base')",
   "language": "python",
   "name": "python3"
  },
  "language_info": {
   "codemirror_mode": {
    "name": "ipython",
    "version": 3
   },
   "file_extension": ".py",
   "mimetype": "text/x-python",
   "name": "python",
   "nbconvert_exporter": "python",
   "pygments_lexer": "ipython3",
   "version": "3.9.7"
  },
  "orig_nbformat": 4,
  "vscode": {
   "interpreter": {
    "hash": "ad2bdc8ecc057115af97d19610ffacc2b4e99fae6737bb82f5d7fb13d2f2c186"
   }
  }
 },
 "nbformat": 4,
 "nbformat_minor": 2
}
