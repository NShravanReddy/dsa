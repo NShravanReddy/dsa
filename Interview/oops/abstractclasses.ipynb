{
 "cells": [
  {
   "cell_type": "code",
   "execution_count": 9,
   "metadata": {},
   "outputs": [
    {
     "name": "stdout",
     "output_type": "stream",
     "text": [
      "elctronic device created\n"
     ]
    }
   ],
   "source": [
    "from abc import ABC,abstractmethod\n",
    "\n",
    "class Electronics(ABC):\n",
    "\n",
    "    def __init__(self):\n",
    "        print(\"elctronic device created\")\n",
    "\n",
    "    @abstractmethod\n",
    "    def on(self):\n",
    "        pass\n",
    "\n",
    "    @abstractmethod\n",
    "    def off(self):\n",
    "        pass\n",
    "\n",
    "    @abstractmethod\n",
    "    def use(self):\n",
    "        pass\n",
    "# c=Electronics() \n",
    "class Mobile(Electronics):\n",
    "\n",
    "    # def __init__(self,name):\n",
    "    #     print(\"mobile created\")\n",
    "    #     self.name=name\n",
    "    def on(self):\n",
    "        pass\n",
    "    def off(self):\n",
    "        pass\n",
    "    def use(self):\n",
    "        pass\n",
    "\n",
    "# c=Mobile(\"lava\")\n",
    "c=Mobile()"
   ]
  },
  {
   "cell_type": "code",
   "execution_count": 25,
   "metadata": {},
   "outputs": [
    {
     "name": "stdout",
     "output_type": "stream",
     "text": [
      "realme electronic device created\n",
      "device on \n",
      "Mobile on\n"
     ]
    }
   ],
   "source": [
    "from abc import ABC,abstractmethod\n",
    "\n",
    "class Electronics(ABC):\n",
    "\n",
    "    def __init__(self,name):\n",
    "        self.name=name\n",
    "        print(name,\"electronic device created\")\n",
    "\n",
    "    @abstractmethod\n",
    "    def on(self):\n",
    "        print(\"device on \")\n",
    "\n",
    "    @abstractmethod\n",
    "    def off(self):\n",
    "        pass\n",
    "\n",
    "    @abstractmethod\n",
    "    def use(self):\n",
    "        pass\n",
    "# c=Electronics() \n",
    "class Mobile(Electronics):\n",
    "\n",
    "    # def __init__(self,name):\n",
    "    #     print(\"mobile created\")\n",
    "    #     self.name=name\n",
    "    def on(self):\n",
    "        super().on()\n",
    "        print(\"Mobile on\")\n",
    "    def off(self):\n",
    "        pass\n",
    "    def use(self):\n",
    "        pass\n",
    "\n",
    "# c=Mobile(\"lava\")\n",
    "c=Mobile(\"realme\")\n",
    "c.on()\n"
   ]
  },
  {
   "cell_type": "code",
   "execution_count": null,
   "metadata": {},
   "outputs": [],
   "source": []
  }
 ],
 "metadata": {
  "kernelspec": {
   "display_name": "Python 3.9.7 ('base')",
   "language": "python",
   "name": "python3"
  },
  "language_info": {
   "codemirror_mode": {
    "name": "ipython",
    "version": 3
   },
   "file_extension": ".py",
   "mimetype": "text/x-python",
   "name": "python",
   "nbconvert_exporter": "python",
   "pygments_lexer": "ipython3",
   "version": "3.9.7"
  },
  "orig_nbformat": 4,
  "vscode": {
   "interpreter": {
    "hash": "ad2bdc8ecc057115af97d19610ffacc2b4e99fae6737bb82f5d7fb13d2f2c186"
   }
  }
 },
 "nbformat": 4,
 "nbformat_minor": 2
}
