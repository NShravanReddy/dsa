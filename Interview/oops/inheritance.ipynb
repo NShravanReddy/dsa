{
 "cells": [
  {
   "cell_type": "code",
   "execution_count": 5,
   "metadata": {},
   "outputs": [
    {
     "name": "stdout",
     "output_type": "stream",
     "text": [
      "color gold\n",
      "price 15\n",
      "ram 6\n",
      "skin miui\n"
     ]
    }
   ],
   "source": [
    "\n",
    "\n",
    "\n",
    "class Mobile:\n",
    "\n",
    "    def __init__(self,color,price):\n",
    "        self.color=color\n",
    "        self.price=price\n",
    "\n",
    "class Redmi(Mobile):\n",
    "\n",
    "    def __init__(self, color, price,ram,skin):\n",
    "        \n",
    "        super().__init__(color, price)\n",
    "        self.ram=ram\n",
    "        self.skin=skin\n",
    "    \n",
    "    def printcar(self):\n",
    "        print(\"color\",self.color)\n",
    "        print(\"price\",self.price)\n",
    "        print(\"ram\",self.ram)\n",
    "        print(\"skin\",self.skin)\n",
    "\n",
    "c=Redmi('gold',15,6,'miui')\n",
    "c.printcar()\n"
   ]
  },
  {
   "cell_type": "code",
   "execution_count": 15,
   "metadata": {},
   "outputs": [
    {
     "name": "stdout",
     "output_type": "stream",
     "text": [
      "color gold\n",
      "price 15\n",
      "ram 6\n",
      "skin miui\n"
     ]
    }
   ],
   "source": [
    "\n",
    "\n",
    "\n",
    "class Mobile:\n",
    "\n",
    "    def __init__(self,color,price):\n",
    "        self.color=color\n",
    "        self.__price=price    #for private\n",
    "    def getprice(self):\n",
    "        return self.__price\n",
    "    def setprice(self,price):\n",
    "        self.__price=price\n",
    "\n",
    "class Redmi(Mobile):\n",
    "\n",
    "    def __init__(self, color, price,ram,skin):\n",
    "        \n",
    "        super().__init__(color, price)\n",
    "        self.ram=ram\n",
    "        self.skin=skin\n",
    "    \n",
    "    def printcar(self):\n",
    "        print(\"color\",self.color)\n",
    "        print(\"price\",self.getprice())\n",
    "        print(\"ram\",self.ram)\n",
    "        print(\"skin\",self.skin)\n",
    "\n",
    "c=Redmi('gold',15,6,'miui')\n",
    "c.printcar()\n"
   ]
  },
  {
   "cell_type": "code",
   "execution_count": 20,
   "metadata": {},
   "outputs": [
    {
     "name": "stdout",
     "output_type": "stream",
     "text": [
      "color: gold\n",
      "price 15\n",
      "ram 6\n",
      "skin miui\n"
     ]
    }
   ],
   "source": [
    "\n",
    "\n",
    "\n",
    "class Mobile:\n",
    "\n",
    "    def __init__(self,color,price):\n",
    "        self.color=color\n",
    "        self.__price=price    #for private\n",
    "    def print(self):       #using another function and\n",
    "        print(\"color:\",self.color)\n",
    "        print(\"price\",self.__price)\n",
    "class Redmi(Mobile):\n",
    "\n",
    "    def __init__(self, color, price,ram,skin):\n",
    "        \n",
    "        super().__init__(color, price)\n",
    "        self.ram=ram\n",
    "        self.skin=skin\n",
    "    \n",
    "    def printcar(self):\n",
    "        super().print()   #super() keyword\n",
    "        print(\"ram\",self.ram)\n",
    "        print(\"skin\",self.skin)\n",
    "\n",
    "c=Redmi('gold',15,6,'miui')\n",
    "c.printcar()\n"
   ]
  },
  {
   "cell_type": "markdown",
   "metadata": {},
   "source": [
    "Multiple Inheritance"
   ]
  },
  {
   "cell_type": "code",
   "execution_count": 8,
   "metadata": {},
   "outputs": [
    {
     "name": "stdout",
     "output_type": "stream",
     "text": [
      "Name of the mobile is Android os\n",
      "Android mobile\n"
     ]
    }
   ],
   "source": [
    "class Realme:\n",
    "\n",
    "    def __init__(self) :\n",
    "        self.osname='Android'\n",
    "\n",
    "    def print(self):\n",
    "\n",
    "        print(\"Realme mobile\")\n",
    "\n",
    "class Android:\n",
    "    def __init__(self):\n",
    "        self.osname='Android os' \n",
    "\n",
    "    def print(self):\n",
    "\n",
    "        print(\"Android mobile\")\n",
    "\n",
    "# class Realmeneo(Realme,Android):  #depends on Order Realme,Android given\n",
    "class Realmeneo(Android,Realme):\n",
    "    def __init__(self):\n",
    "        super().__init__() #goes to the base class\n",
    "\n",
    "    def printRealmeneo(self):\n",
    "        print(\"Name of the os is\",self.osname)\n",
    "\n",
    "c=Realmeneo()\n",
    "c.printRealmeneo()\n",
    "c.print()   #above comment"
   ]
  },
  {
   "cell_type": "code",
   "execution_count": 10,
   "metadata": {},
   "outputs": [
    {
     "name": "stdout",
     "output_type": "stream",
     "text": [
      "Name of the os is Android os\n",
      "Android mobile\n",
      "[<class '__main__.Realmeneo'>, <class '__main__.Android'>, <class '__main__.Realme'>, <class 'object'>]\n"
     ]
    }
   ],
   "source": [
    "class Realme:\n",
    "\n",
    "    def __init__(self) :\n",
    "        self.osname='Android'\n",
    "\n",
    "    def print(self):\n",
    "\n",
    "        print(\"Realme mobile\")\n",
    "\n",
    "class Android:\n",
    "    def __init__(self):\n",
    "        self.osname='Android os' \n",
    "\n",
    "    def print(self):\n",
    "\n",
    "        print(\"Android mobile\")\n",
    "\n",
    "# class Realmeneo(Realme,Android):  #depends on Order Realme,Android given\n",
    "class Realmeneo(Android,Realme):\n",
    "    def __init__(self):\n",
    "        super().__init__() #goes to the base class\n",
    "\n",
    "    def printRealmeneo(self):\n",
    "        print(\"Name of the os is\",self.osname)\n",
    "\n",
    "c=Realmeneo()\n",
    "c.printRealmeneo()\n",
    "c.print()   #above comment\n",
    "print(Realmeneo.mro())"
   ]
  },
  {
   "cell_type": "code",
   "execution_count": 2,
   "metadata": {},
   "outputs": [
    {
     "name": "stdout",
     "output_type": "stream",
     "text": [
      "red 6\n"
     ]
    }
   ],
   "source": [
    "class Mobil:\n",
    "    def __init__(self):\n",
    "        self.__color='red'\n",
    "        self.ram=8\n",
    "    def print(self):\n",
    "        print(self.__color,self.ram)\n",
    "class moto(Mobil):\n",
    "    def __init__(self):\n",
    "        super().__init__()\n",
    "        self.__color='blue'\n",
    "        self.ram=6\n",
    "sale=moto()\n",
    "sale.print()\n"
   ]
  },
  {
   "cell_type": "code",
   "execution_count": null,
   "metadata": {},
   "outputs": [],
   "source": []
  }
 ],
 "metadata": {
  "kernelspec": {
   "display_name": "Python 3.10.2 64-bit",
   "language": "python",
   "name": "python3"
  },
  "language_info": {
   "codemirror_mode": {
    "name": "ipython",
    "version": 3
   },
   "file_extension": ".py",
   "mimetype": "text/x-python",
   "name": "python",
   "nbconvert_exporter": "python",
   "pygments_lexer": "ipython3",
   "version": "3.10.2"
  },
  "orig_nbformat": 4,
  "vscode": {
   "interpreter": {
    "hash": "cab83614c35af97801502773e8caf02849b0735b457d2ef56ad74dec517c590c"
   }
  }
 },
 "nbformat": 4,
 "nbformat_minor": 2
}
