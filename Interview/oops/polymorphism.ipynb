{
 "cells": [
  {
   "cell_type": "code",
   "execution_count": 2,
   "metadata": {},
   "outputs": [
    {
     "name": "stdout",
     "output_type": "stream",
     "text": [
      "color: gold\n",
      "price 15\n",
      "ram 6\n",
      "skin miui\n",
      "color: red\n",
      "price 18\n",
      "True\n"
     ]
    }
   ],
   "source": [
    "class Mobile:\n",
    "\n",
    "    def __init__(self,color,price):\n",
    "        self.color=color\n",
    "        self.__price=price    #for private\n",
    "    def print(self):       #using another function and\n",
    "        print(\"color:\",self.color)\n",
    "        print(\"price\",self.__price)\n",
    "class Redmi(Mobile):\n",
    "\n",
    "    def __init__(self, color, price,ram,skin):\n",
    "        \n",
    "        super().__init__(color, price)\n",
    "        self.ram=ram\n",
    "        self.skin=skin\n",
    "    \n",
    "    def print(self):\n",
    "        super().print()   #super() keyword, if self.print() used then it calls same function and stucks there\n",
    "        print(\"ram\",self.ram)\n",
    "        print(\"skin\",self.skin)\n",
    "\n",
    "c=Redmi('gold',15,6,'miui')\n",
    "c.print()\n",
    "\n",
    "v=Mobile('red',18)\n",
    "v.print()\n",
    "print(issubclass(Redmi,Mobile))\n"
   ]
  },
  {
   "cell_type": "markdown",
   "metadata": {},
   "source": [
    "For protected we use '_' in python and same as public.Not as private.We can modify but we should not modify it if is a protected member."
   ]
  },
  {
   "cell_type": "code",
   "execution_count": 6,
   "metadata": {},
   "outputs": [
    {
     "name": "stdout",
     "output_type": "stream",
     "text": [
      "color: gold\n",
      "price 15\n",
      "ram 6\n",
      "skin miui\n",
      "color: red\n",
      "price 18\n",
      "color: red\n",
      "price 20\n"
     ]
    }
   ],
   "source": [
    "class Mobile:\n",
    "\n",
    "    def __init__(self,color,price):\n",
    "        self.color=color\n",
    "        self._price=price    #for protected\n",
    "    def print(self):       #using another function and\n",
    "        print(\"color:\",self.color)\n",
    "        print(\"price\",self._price)\n",
    "class Redmi(Mobile):\n",
    "\n",
    "    def __init__(self, color, price,ram,skin):\n",
    "        \n",
    "        super().__init__(color, price)\n",
    "        self.ram=ram\n",
    "        self.skin=skin\n",
    "    \n",
    "    def print(self):\n",
    "        super().print()   #super() keyword, if self.print() used then it calls same function and stucks there\n",
    "        print(\"ram\",self.ram)\n",
    "        print(\"skin\",self.skin)\n",
    "\n",
    "c=Redmi('gold',15,6,'miui')\n",
    "c.print()\n",
    "\n",
    "v=Mobile('red',18)\n",
    "v.print()\n",
    "v._price=20\n",
    "v.print()\n"
   ]
  },
  {
   "cell_type": "code",
   "execution_count": null,
   "metadata": {},
   "outputs": [],
   "source": []
  }
 ],
 "metadata": {
  "kernelspec": {
   "display_name": "Python 3.9.7 ('base')",
   "language": "python",
   "name": "python3"
  },
  "language_info": {
   "codemirror_mode": {
    "name": "ipython",
    "version": 3
   },
   "file_extension": ".py",
   "mimetype": "text/x-python",
   "name": "python",
   "nbconvert_exporter": "python",
   "pygments_lexer": "ipython3",
   "version": "3.9.7"
  },
  "orig_nbformat": 4,
  "vscode": {
   "interpreter": {
    "hash": "ad2bdc8ecc057115af97d19610ffacc2b4e99fae6737bb82f5d7fb13d2f2c186"
   }
  }
 },
 "nbformat": 4,
 "nbformat_minor": 2
}
