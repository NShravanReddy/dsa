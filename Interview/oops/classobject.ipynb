{
 "cells": [
  {
   "cell_type": "code",
   "execution_count": 7,
   "metadata": {},
   "outputs": [
    {
     "name": "stdout",
     "output_type": "stream",
     "text": [
      "This is a circle class which takes radius as an argument\n"
     ]
    }
   ],
   "source": [
    "\n",
    "\n",
    "\n",
    "class Circle(object):\n",
    "\n",
    "    def __init__(self,radius):\n",
    "        self.__radius=radius\n",
    "    \n",
    "    def __str__(self):\n",
    "        return \"This is a circle class which takes radius as an argument\"\n",
    "\n",
    "c=Circle(3)\n",
    "print(c)"
   ]
  },
  {
   "cell_type": "code",
   "execution_count": null,
   "metadata": {},
   "outputs": [],
   "source": []
  }
 ],
 "metadata": {
  "kernelspec": {
   "display_name": "Python 3.10.2 64-bit",
   "language": "python",
   "name": "python3"
  },
  "language_info": {
   "codemirror_mode": {
    "name": "ipython",
    "version": 3
   },
   "file_extension": ".py",
   "mimetype": "text/x-python",
   "name": "python",
   "nbconvert_exporter": "python",
   "pygments_lexer": "ipython3",
   "version": "3.10.2"
  },
  "orig_nbformat": 4,
  "vscode": {
   "interpreter": {
    "hash": "cab83614c35af97801502773e8caf02849b0735b457d2ef56ad74dec517c590c"
   }
  }
 },
 "nbformat": 4,
 "nbformat_minor": 2
}
