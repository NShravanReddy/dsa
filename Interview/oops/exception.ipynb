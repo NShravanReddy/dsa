{
 "cells": [
  {
   "cell_type": "code",
   "execution_count": 6,
   "metadata": {},
   "outputs": [
    {
     "name": "stdout",
     "output_type": "stream",
     "text": [
      "Numerator and denominator should be integers\n"
     ]
    }
   ],
   "source": [
    "try:\n",
    "    n=int(input('enter the numerator'))\n",
    "    numerator=int(n)\n",
    "    denominator=int(input('enter the denominator'))\n",
    "    denominator=int(n)\n",
    "    value=numerator/denominator\n",
    "    print(value)\n",
    "except ValueError:\n",
    "    print(\"Numerator and denominator should be integers\")"
   ]
  },
  {
   "cell_type": "code",
   "execution_count": 8,
   "metadata": {},
   "outputs": [
    {
     "ename": "ZeroDivisionError",
     "evalue": "division by zero",
     "output_type": "error",
     "traceback": [
      "\u001b[1;31m---------------------------------------------------------------------------\u001b[0m",
      "\u001b[1;31mZeroDivisionError\u001b[0m                         Traceback (most recent call last)",
      "\u001b[1;32mc:\\Users\\nshra\\Documents\\nsr,python\\Interview\\oops\\exception.ipynb Cell 2\u001b[0m in \u001b[0;36m<cell line: 1>\u001b[1;34m()\u001b[0m\n\u001b[0;32m      <a href='vscode-notebook-cell:/c%3A/Users/nshra/Documents/nsr%2Cpython/Interview/oops/exception.ipynb#W1sZmlsZQ%3D%3D?line=0'>1</a>\u001b[0m \u001b[39mtry\u001b[39;00m:\n\u001b[1;32m----> <a href='vscode-notebook-cell:/c%3A/Users/nshra/Documents/nsr%2Cpython/Interview/oops/exception.ipynb#W1sZmlsZQ%3D%3D?line=1'>2</a>\u001b[0m     \u001b[39mprint\u001b[39m(\u001b[39mint\u001b[39;49m(\u001b[39minput\u001b[39;49m())\u001b[39m/\u001b[39;49m\u001b[39mint\u001b[39;49m(\u001b[39minput\u001b[39;49m()))\n\u001b[0;32m      <a href='vscode-notebook-cell:/c%3A/Users/nshra/Documents/nsr%2Cpython/Interview/oops/exception.ipynb#W1sZmlsZQ%3D%3D?line=2'>3</a>\u001b[0m \u001b[39mexcept\u001b[39;00m \u001b[39mValueError\u001b[39;00m:\n\u001b[0;32m      <a href='vscode-notebook-cell:/c%3A/Users/nshra/Documents/nsr%2Cpython/Interview/oops/exception.ipynb#W1sZmlsZQ%3D%3D?line=3'>4</a>\u001b[0m     \u001b[39mprint\u001b[39m(\u001b[39m\"\u001b[39m\u001b[39mNot\u001b[39m\u001b[39m\"\u001b[39m)\n",
      "\u001b[1;31mZeroDivisionError\u001b[0m: division by zero"
     ]
    }
   ],
   "source": [
    "try:\n",
    "    print(int(input())/int(input()))\n",
    "except ValueError:\n",
    "    print(\"Not\")"
   ]
  },
  {
   "cell_type": "code",
   "execution_count": 9,
   "metadata": {},
   "outputs": [
    {
     "name": "stdout",
     "output_type": "stream",
     "text": [
      "denominator should not be zero\n"
     ]
    }
   ],
   "source": [
    "try:\n",
    "    print(int(input())/int(input()))\n",
    "except ValueError:\n",
    "    print(\"Not\")\n",
    "except ZeroDivisionError:\n",
    "    print(\"denominator should not be zero\")"
   ]
  },
  {
   "cell_type": "code",
   "execution_count": 11,
   "metadata": {},
   "outputs": [
    {
     "name": "stdout",
     "output_type": "stream",
     "text": [
      "denominator should not be zero\n"
     ]
    }
   ],
   "source": [
    "\n",
    "try:\n",
    "    num=int(input())\n",
    "    deno=int(input())\n",
    "    print(num/deno)\n",
    "    if deno==0:\n",
    "        raise ZeroDivisionError\n",
    "    print('Hi')\n",
    "except ValueError:\n",
    "    print(\"Not\")\n",
    "except ZeroDivisionError:\n",
    "    print(\"denominator should not be zero\")"
   ]
  },
  {
   "cell_type": "code",
   "execution_count": 14,
   "metadata": {},
   "outputs": [
    {
     "ename": "TypeError",
     "evalue": "'type' object is not subscriptable",
     "output_type": "error",
     "traceback": [
      "\u001b[1;31m---------------------------------------------------------------------------\u001b[0m",
      "\u001b[1;31mTypeError\u001b[0m                                 Traceback (most recent call last)",
      "\u001b[1;32mc:\\Users\\nshra\\Documents\\nsr,python\\Interview\\oops\\exception.ipynb Cell 5\u001b[0m in \u001b[0;36m<cell line: 3>\u001b[1;34m()\u001b[0m\n\u001b[0;32m      <a href='vscode-notebook-cell:/c%3A/Users/nshra/Documents/nsr%2Cpython/Interview/oops/exception.ipynb#W4sZmlsZQ%3D%3D?line=4'>5</a>\u001b[0m deno\u001b[39m=\u001b[39m\u001b[39mint\u001b[39m(\u001b[39minput\u001b[39m())\n\u001b[0;32m      <a href='vscode-notebook-cell:/c%3A/Users/nshra/Documents/nsr%2Cpython/Interview/oops/exception.ipynb#W4sZmlsZQ%3D%3D?line=5'>6</a>\u001b[0m \u001b[39mif\u001b[39;00m deno\u001b[39m==\u001b[39m\u001b[39m0\u001b[39m:\n\u001b[1;32m----> <a href='vscode-notebook-cell:/c%3A/Users/nshra/Documents/nsr%2Cpython/Interview/oops/exception.ipynb#W4sZmlsZQ%3D%3D?line=6'>7</a>\u001b[0m     \u001b[39mraise\u001b[39;00m ZeroDenominatorError[\u001b[39m'\u001b[39;49m\u001b[39mdenominator should not be zero\u001b[39;49m\u001b[39m'\u001b[39;49m]\n\u001b[0;32m      <a href='vscode-notebook-cell:/c%3A/Users/nshra/Documents/nsr%2Cpython/Interview/oops/exception.ipynb#W4sZmlsZQ%3D%3D?line=7'>8</a>\u001b[0m value\u001b[39m=\u001b[39mnum\u001b[39m/\u001b[39mdeno\n\u001b[0;32m      <a href='vscode-notebook-cell:/c%3A/Users/nshra/Documents/nsr%2Cpython/Interview/oops/exception.ipynb#W4sZmlsZQ%3D%3D?line=8'>9</a>\u001b[0m \u001b[39mprint\u001b[39m(value)\n",
      "\u001b[1;31mTypeError\u001b[0m: 'type' object is not subscriptable"
     ]
    }
   ],
   "source": [
    "class ZeroDenominatorError(Exception):\n",
    "    pass\n",
    "try:\n",
    "    num=int(input())\n",
    "    deno=int(input())\n",
    "    if deno==0:\n",
    "        raise ZeroDenominatorError['denominator should not be zero']\n",
    "    value=num/deno\n",
    "    print(value)\n",
    "except ValueError:\n",
    "    print(\"Not\")\n",
    "except ZeroDivisionError:\n",
    "    print(\"denominator should not be zero\")"
   ]
  },
  {
   "cell_type": "code",
   "execution_count": 2,
   "metadata": {},
   "outputs": [
    {
     "ename": "TypeError",
     "evalue": "'type' object is not subscriptable",
     "output_type": "error",
     "traceback": [
      "\u001b[1;31m---------------------------------------------------------------------------\u001b[0m",
      "\u001b[1;31mTypeError\u001b[0m                                 Traceback (most recent call last)",
      "\u001b[1;32mc:\\Users\\nshra\\Documents\\nsr,python\\Interview\\oops\\exception.ipynb Cell 6\u001b[0m in \u001b[0;36m<cell line: 3>\u001b[1;34m()\u001b[0m\n\u001b[0;32m      <a href='vscode-notebook-cell:/c%3A/Users/nshra/Documents/nsr%2Cpython/Interview/oops/exception.ipynb#W5sZmlsZQ%3D%3D?line=4'>5</a>\u001b[0m deno\u001b[39m=\u001b[39m\u001b[39mint\u001b[39m(\u001b[39minput\u001b[39m())\n\u001b[0;32m      <a href='vscode-notebook-cell:/c%3A/Users/nshra/Documents/nsr%2Cpython/Interview/oops/exception.ipynb#W5sZmlsZQ%3D%3D?line=5'>6</a>\u001b[0m \u001b[39mif\u001b[39;00m deno\u001b[39m==\u001b[39m\u001b[39m0\u001b[39m:\n\u001b[1;32m----> <a href='vscode-notebook-cell:/c%3A/Users/nshra/Documents/nsr%2Cpython/Interview/oops/exception.ipynb#W5sZmlsZQ%3D%3D?line=6'>7</a>\u001b[0m     \u001b[39mraise\u001b[39;00m ZeroDenominatorError[\u001b[39m'\u001b[39;49m\u001b[39mdenominator should not be zero\u001b[39;49m\u001b[39m'\u001b[39;49m]\n\u001b[0;32m      <a href='vscode-notebook-cell:/c%3A/Users/nshra/Documents/nsr%2Cpython/Interview/oops/exception.ipynb#W5sZmlsZQ%3D%3D?line=7'>8</a>\u001b[0m value\u001b[39m=\u001b[39mnum\u001b[39m/\u001b[39mdeno\n\u001b[0;32m      <a href='vscode-notebook-cell:/c%3A/Users/nshra/Documents/nsr%2Cpython/Interview/oops/exception.ipynb#W5sZmlsZQ%3D%3D?line=8'>9</a>\u001b[0m \u001b[39mprint\u001b[39m(value)\n",
      "\u001b[1;31mTypeError\u001b[0m: 'type' object is not subscriptable"
     ]
    }
   ],
   "source": [
    "class ZeroDenominatorError(Exception):\n",
    "    pass\n",
    "try:\n",
    "    num=int(input())\n",
    "    deno=int(input())\n",
    "    if deno==0:\n",
    "        raise ZeroDenominatorError['denominator should not be zero']\n",
    "    value=num/deno\n",
    "    print(value)\n",
    "except ValueError:\n",
    "    print(\"Not\")\n",
    "except ZeroDivisionError:\n",
    "    print(\"denominator should not be zero\")\n",
    "else:\n",
    "    print(\"no exception occured\",value)"
   ]
  },
  {
   "cell_type": "code",
   "execution_count": 3,
   "metadata": {},
   "outputs": [
    {
     "name": "stdout",
     "output_type": "stream",
     "text": [
      "5.0\n",
      "no exception occured 5.0\n",
      "Numerator and denominator are 5 1\n"
     ]
    }
   ],
   "source": [
    "class ZeroDenominatorError(Exception):\n",
    "    pass\n",
    "try:\n",
    "    num=int(input())\n",
    "    deno=int(input())\n",
    "    if deno==0:\n",
    "        raise ZeroDenominatorError['denominator should not be zero']\n",
    "    value=num/deno\n",
    "    print(value)\n",
    "except ValueError:\n",
    "    print(\"Not\")\n",
    "except ZeroDivisionError:\n",
    "    print(\"denominator should not be zero\")\n",
    "else:\n",
    "    print(\"no exception occured\",value)\n",
    "finally:\n",
    "    print(\"Numerator and denominator are\",num,deno)"
   ]
  },
  {
   "cell_type": "code",
   "execution_count": 5,
   "metadata": {},
   "outputs": [
    {
     "name": "stdout",
     "output_type": "stream",
     "text": [
      "no \n"
     ]
    }
   ],
   "source": [
    "def main():\n",
    "    try:\n",
    "        func()\n",
    "        print('print this after function call')\n",
    "    except ZeroDivisionError:\n",
    "        print(\"no \")\n",
    "    except :\n",
    "        print('yes')\n",
    "def func():\n",
    "    print(1/0)\n",
    "main()\n",
    "\n"
   ]
  }
 ],
 "metadata": {
  "kernelspec": {
   "display_name": "Python 3.10.2 64-bit",
   "language": "python",
   "name": "python3"
  },
  "language_info": {
   "codemirror_mode": {
    "name": "ipython",
    "version": 3
   },
   "file_extension": ".py",
   "mimetype": "text/x-python",
   "name": "python",
   "nbconvert_exporter": "python",
   "pygments_lexer": "ipython3",
   "version": "3.10.2"
  },
  "orig_nbformat": 4,
  "vscode": {
   "interpreter": {
    "hash": "cab83614c35af97801502773e8caf02849b0735b457d2ef56ad74dec517c590c"
   }
  }
 },
 "nbformat": 4,
 "nbformat_minor": 2
}
